{
 "cells": [
  {
   "cell_type": "code",
   "execution_count": 1,
   "id": "9e161ff6",
   "metadata": {},
   "outputs": [],
   "source": [
    "%load_ext autoreload\n",
    "%autoreload 2\n",
    "%matplotlib inline"
   ]
  },
  {
   "cell_type": "code",
   "execution_count": 2,
   "id": "ae480dfb",
   "metadata": {},
   "outputs": [],
   "source": [
    "from astropy.units import degree, arcmin, arcsec\n",
    "from astropy.coordinates import SkyCoord\n",
    "from astropy.table import Table"
   ]
  },
  {
   "cell_type": "code",
   "execution_count": 3,
   "id": "b04992e0",
   "metadata": {},
   "outputs": [],
   "source": [
    "import gpao_obd as go"
   ]
  },
  {
   "cell_type": "code",
   "execution_count": 5,
   "id": "62882eb4",
   "metadata": {},
   "outputs": [],
   "source": [
    "table_path = '../../gvprep/tabs/redstar_k9-10p5mag_grp16-18mag_gaia_final.ipac'\n",
    "tb = Table.read(table_path, format='ascii.ipac')"
   ]
  },
  {
   "cell_type": "markdown",
   "id": "fc498dd2",
   "metadata": {},
   "source": []
  },
  {
   "cell_type": "code",
   "execution_count": 6,
   "id": "6857e287",
   "metadata": {},
   "outputs": [
    {
     "data": {
      "text/plain": [
       "['designation',\n",
       " 'ra_2000_hms',\n",
       " 'dec_2000_dms',\n",
       " 'ra_2000',\n",
       " 'dec_2000',\n",
       " 'H',\n",
       " 'K',\n",
       " 'Grp',\n",
       " 'parallax',\n",
       " 'pm',\n",
       " 'pmra',\n",
       " 'pmdec',\n",
       " 'radial_velocity',\n",
       " 'phot_g_mean_mag',\n",
       " 'ra_2016',\n",
       " 'dec_2016']"
      ]
     },
     "execution_count": 6,
     "metadata": {},
     "output_type": "execute_result"
    }
   ],
   "source": [
    "tb.colnames"
   ]
  },
  {
   "cell_type": "code",
   "execution_count": 7,
   "id": "19037f55",
   "metadata": {},
   "outputs": [],
   "source": [
    "tb.rename_column('designation', 'name')\n",
    "tb.rename_column('ra_2000', 'ra')\n",
    "tb.rename_column('dec_2000', 'dec')"
   ]
  },
  {
   "cell_type": "code",
   "execution_count": 8,
   "id": "be412d76",
   "metadata": {},
   "outputs": [],
   "source": [
    "tb.add_index('name')"
   ]
  },
  {
   "cell_type": "code",
   "execution_count": 9,
   "id": "a7ab7895",
   "metadata": {},
   "outputs": [
    {
     "data": {
      "text/html": [
       "<div><i>Table length=44</i>\n",
       "<table id=\"table4807180176\" class=\"table-striped table-bordered table-condensed\">\n",
       "<thead><tr><th>name</th><th>ra_2000_hms</th><th>dec_2000_dms</th><th>ra</th><th>dec</th><th>H</th><th>K</th><th>Grp</th><th>parallax</th><th>pm</th><th>pmra</th><th>pmdec</th><th>radial_velocity</th><th>phot_g_mean_mag</th><th>ra_2016</th><th>dec_2016</th></tr></thead>\n",
       "<thead><tr><th></th><th></th><th></th><th></th><th></th><th>mag</th><th>mag</th><th>mag</th><th>mas</th><th>mas / yr</th><th>mas / yr</th><th>mas / yr</th><th>km / s</th><th>mag</th><th>deg</th><th>deg</th></tr></thead>\n",
       "<thead><tr><th>str28</th><th>str12</th><th>str13</th><th>float64</th><th>float64</th><th>float64</th><th>float64</th><th>float64</th><th>float64</th><th>float64</th><th>float64</th><th>float64</th><th>float64</th><th>float64</th><th>float64</th><th>float64</th></tr></thead>\n",
       "<tr><td>Gaia DR3 4853500790386957184</td><td>03:25:01.357</td><td>-38:58:35.848</td><td>51.25565226429274</td><td>-38.976624335244104</td><td>10.552</td><td>10.419</td><td>16.357912</td><td>5.965889948122083</td><td>54.3928</td><td>53.5694885058395</td><td>-9.427969456583403</td><td>0.0</td><td>18.617361</td><td>51.25595852336722</td><td>-38.97666623773083</td></tr>\n",
       "<tr><td>Gaia DR3 6595778463264250752</td><td>22:44:44.467</td><td>-36:51:31.445</td><td>341.1852807051965</td><td>-36.858734615158745</td><td>10.311</td><td>10.214</td><td>16.130276</td><td>0.18017995202449796</td><td>14.852239</td><td>-1.3777123413807328</td><td>-14.788201557360592</td><td>0.0</td><td>18.20254</td><td>341.1852730523571</td><td>-36.85880034049924</td></tr>\n",
       "<tr><td>Gaia DR3 4868157177305314048</td><td>04:40:51.784</td><td>-34:13:16.485</td><td>70.21576736660455</td><td>-34.221245742766975</td><td>10.581</td><td>10.476</td><td>16.575659</td><td>4.786612919190187</td><td>80.95032</td><td>2.6634631838405873</td><td>-80.9064882579322</td><td>0.0</td><td>20.298132</td><td>70.21578168274155</td><td>-34.221605327160056</td></tr>\n",
       "<tr><td>Gaia DR3 4872185989773215616</td><td>04:21:38.651</td><td>-32:15:04.752</td><td>65.41104761949585</td><td>-32.25132012751359</td><td>9.994</td><td>9.637</td><td>17.43782</td><td>0.9765931033774395</td><td>6.625201</td><td>6.559773127651328</td><td>0.9288006876787901</td><td>0.0</td><td>19.233973</td><td>65.41108209272747</td><td>-32.251315999515214</td></tr>\n",
       "<tr><td>Gaia DR3 4874730951169692544</td><td>04:54:58.656</td><td>-31:50:21.602</td><td>73.74439919949538</td><td>-31.839333794942558</td><td>10.353</td><td>10.135</td><td>16.576508</td><td>0.3044078727837364</td><td>3.3804996</td><td>2.198084883263627</td><td>2.5683069762282944</td><td>0.0</td><td>17.318808</td><td>73.74441069909832</td><td>-31.8393223802454</td></tr>\n",
       "<tr><td>Gaia DR3 6557016486496710656</td><td>23:13:09.246</td><td>-31:21:51.902</td><td>348.28852621558116</td><td>-31.364417153347702</td><td>10.011</td><td>9.753</td><td>16.59869</td><td>14.283070096232063</td><td>132.2963</td><td>83.6917658736205</td><td>-102.45973734800651</td><td>0.0</td><td>18.70088</td><td>348.2889618340881</td><td>-31.36487253069409</td></tr>\n",
       "<tr><td>Gaia DR3 5607855171083646720</td><td>06:59:33.685</td><td>-30:12:02.794</td><td>104.89035400343136</td><td>-30.20077607286266</td><td>9.378</td><td>9.166</td><td>17.437363</td><td>0.3165046818545441</td><td>5.437076</td><td>-5.111318216039092</td><td>1.8537045075535308</td><td>0.0</td><td>20.044426</td><td>104.89032771879492</td><td>-30.200767834178585</td></tr>\n",
       "<tr><td>Gaia DR3 5607858022940533248</td><td>06:58:39.256</td><td>-30:10:32.311</td><td>104.66356607531483</td><td>-30.17564191675092</td><td>9.603</td><td>9.13</td><td>17.789015</td><td>-0.07057179478704464</td><td>2.9528809</td><td>1.6006282992990273</td><td>2.4814297968481576</td><td>0.0</td><td>19.23091</td><td>104.66357430434617</td><td>-30.1756308881743</td></tr>\n",
       "<tr><td>Gaia DR3 5029831462996804736</td><td>01:13:14.440</td><td>-29:40:16.023</td><td>18.310168714776687</td><td>-29.67111739091089</td><td>10.249</td><td>10.044</td><td>17.418861</td><td>11.274653006287908</td><td>73.42804</td><td>-73.39564651936412</td><td>2.1809349423797446</td><td>0.0</td><td>20.591743</td><td>18.309793286136646</td><td>-29.671107698395737</td></tr>\n",
       "<tr><td>...</td><td>...</td><td>...</td><td>...</td><td>...</td><td>...</td><td>...</td><td>...</td><td>...</td><td>...</td><td>...</td><td>...</td><td>...</td><td>...</td><td>...</td><td>...</td></tr>\n",
       "<tr><td>Gaia DR3 5114832404838099840</td><td>03:51:31.650</td><td>-11:45:50.280</td><td>57.881876256445125</td><td>-11.763966607535508</td><td>10.281</td><td>10.261</td><td>16.148804</td><td>0.5416376529811949</td><td>12.343477</td><td>1.927277419106317</td><td>-12.192088646021674</td><td>0.0</td><td>18.310251</td><td>57.88188500589777</td><td>-11.76402079459629</td></tr>\n",
       "<tr><td>Gaia DR3 2988971885654971264</td><td>05:22:45.124</td><td>-11:41:17.717</td><td>80.68801459645</td><td>-11.688254772383843</td><td>10.915</td><td>10.351</td><td>16.22824</td><td>0.7358928430371897</td><td>3.7350192</td><td>3.1998843697723465</td><td>1.9264237580567776</td><td>0.0</td><td>17.10325</td><td>80.68802911929888</td><td>-11.688246210500841</td></tr>\n",
       "<tr><td>Gaia DR3 3046036470416189184</td><td>07:02:59.861</td><td>-11:28:30.728</td><td>105.74942206034386</td><td>-11.475202197904203</td><td>10.369</td><td>9.589</td><td>16.159365</td><td>0.24934147140124496</td><td>0.6730179</td><td>-0.49475260408202215</td><td>0.4562597307977365</td><td>0.0</td><td>17.69418</td><td>105.74941981659283</td><td>-11.475200170083188</td></tr>\n",
       "<tr><td>Gaia DR3 3046046301599792640</td><td>07:03:48.934</td><td>-11:13:58.886</td><td>105.95389224898119</td><td>-11.233023755473125</td><td>13.429</td><td>10.086</td><td>16.529596</td><td>0.17134478581783583</td><td>2.1796577</td><td>-1.025487801398158</td><td>1.9233519138044113</td><td>0.0</td><td>17.584589</td><td>105.9538876022402</td><td>-11.233015207242435</td></tr>\n",
       "<tr><td>Gaia DR3 3001313319561507072</td><td>06:24:44.009</td><td>-10:45:06.444</td><td>96.18337093777377</td><td>-10.751789992687435</td><td>11.285</td><td>10.425</td><td>16.986008</td><td>-0.24732523248421895</td><td>0.3916418</td><td>-0.36898318479813497</td><td>-0.13128104916440983</td><td>0.0</td><td>18.489775</td><td>96.18336926854447</td><td>-10.751790576158772</td></tr>\n",
       "<tr><td>Gaia DR3 3011245246750174208</td><td>05:53:40.549</td><td>-10:24:03.290</td><td>88.41895241849755</td><td>-10.40091395218677</td><td>11.124</td><td>10.082</td><td>16.353771</td><td>1.4077688696177622</td><td>2.386954</td><td>-0.6046770539998284</td><td>2.3090941109966745</td><td>0.0</td><td>17.861687</td><td>88.4189496861476</td><td>-10.40090368954629</td></tr>\n",
       "<tr><td>Gaia DR3 3002859374644601344</td><td>06:27:18.636</td><td>-10:12:15.694</td><td>96.82765118355738</td><td>-10.20435945332504</td><td>11.175</td><td>10.364</td><td>16.814062</td><td>0.4477107745127282</td><td>6.6341333</td><td>-0.7807007239157199</td><td>6.588036929883034</td><td>0.0</td><td>18.369436</td><td>96.82764765800975</td><td>-10.204330173160924</td></tr>\n",
       "<tr><td>Gaia DR3 2437106388124579584</td><td>23:29:30.187</td><td>-10:06:42.686</td><td>352.3757789053074</td><td>-10.111857187548901</td><td>10.598</td><td>10.478</td><td>16.929592</td><td>0.21899730255962155</td><td>1.7170094</td><td>0.6848973925408742</td><td>-1.574495747083364</td><td>0.0</td><td>18.838762</td><td>352.3757819973246</td><td>-10.111864185307793</td></tr>\n",
       "<tr><td>Gaia DR3 3010627561731944704</td><td>05:37:03.005</td><td>-10:00:42.021</td><td>84.26252262008086</td><td>-10.011672512933906</td><td>10.32</td><td>10.196</td><td>16.295393</td><td>0.5424856933181965</td><td>10.542705</td><td>7.683053657139959</td><td>-7.2193700512878225</td><td>0.0</td><td>18.472761</td><td>84.26255729500338</td><td>-10.01170459902482</td></tr>\n",
       "</table></div>"
      ],
      "text/plain": [
       "<Table length=44>\n",
       "            name             ra_2000_hms  ...       dec_2016     \n",
       "                                          ...         deg        \n",
       "           str28                str12     ...       float64      \n",
       "---------------------------- ------------ ... -------------------\n",
       "Gaia DR3 4853500790386957184 03:25:01.357 ...  -38.97666623773083\n",
       "Gaia DR3 6595778463264250752 22:44:44.467 ...  -36.85880034049924\n",
       "Gaia DR3 4868157177305314048 04:40:51.784 ... -34.221605327160056\n",
       "Gaia DR3 4872185989773215616 04:21:38.651 ... -32.251315999515214\n",
       "Gaia DR3 4874730951169692544 04:54:58.656 ...   -31.8393223802454\n",
       "Gaia DR3 6557016486496710656 23:13:09.246 ...  -31.36487253069409\n",
       "Gaia DR3 5607855171083646720 06:59:33.685 ... -30.200767834178585\n",
       "Gaia DR3 5607858022940533248 06:58:39.256 ...   -30.1756308881743\n",
       "Gaia DR3 5029831462996804736 01:13:14.440 ... -29.671107698395737\n",
       "                         ...          ... ...                 ...\n",
       "Gaia DR3 5114832404838099840 03:51:31.650 ...  -11.76402079459629\n",
       "Gaia DR3 2988971885654971264 05:22:45.124 ... -11.688246210500841\n",
       "Gaia DR3 3046036470416189184 07:02:59.861 ... -11.475200170083188\n",
       "Gaia DR3 3046046301599792640 07:03:48.934 ... -11.233015207242435\n",
       "Gaia DR3 3001313319561507072 06:24:44.009 ... -10.751790576158772\n",
       "Gaia DR3 3011245246750174208 05:53:40.549 ...  -10.40090368954629\n",
       "Gaia DR3 3002859374644601344 06:27:18.636 ... -10.204330173160924\n",
       "Gaia DR3 2437106388124579584 23:29:30.187 ... -10.111864185307793\n",
       "Gaia DR3 3010627561731944704 05:37:03.005 ...  -10.01170459902482"
      ]
     },
     "execution_count": 9,
     "metadata": {},
     "output_type": "execute_result"
    }
   ],
   "source": [
    "tb"
   ]
  },
  {
   "cell_type": "markdown",
   "id": "c07e3bf9",
   "metadata": {},
   "source": [
    "## Create LGS_VIS template following LGS_VIS.py"
   ]
  },
  {
   "cell_type": "code",
   "execution_count": 10,
   "id": "9ba0c47b",
   "metadata": {},
   "outputs": [
    {
     "name": "stdout",
     "output_type": "stream",
     "text": [
      "template generated at LGS_VIS_055340-102403_16.4_10.1.obd\n"
     ]
    },
    {
     "name": "stderr",
     "output_type": "stream",
     "text": [
      "/Users/yixiancao/anaconda3/envs/gpao/lib/python3.11/site-packages/numpy/lib/_function_base_impl.py:2625: RuntimeWarning: invalid value encountered in do_format (vectorized)\n",
      "  outputs = ufunc(*args, out=...)\n"
     ]
    }
   ],
   "source": [
    "from gpao_obd.generate_obd_from_tb import generate_lgs_vis_template\n",
    "#target_names = [\"[MDM2001] CFHT-BD-Tau 19\"]\n",
    "#target_names = tb['name']. # full all \n",
    "target_names = [\"Gaia DR3 3011245246750174208\"]\n",
    "\n",
    "obdfiles = []\n",
    "for obj_name in target_names:\n",
    "    target = tb.loc[obj_name]\n",
    "    obdfile =  generate_lgs_vis_template(target)\n",
    "    obdfiles.append(obdfile)"
   ]
  },
  {
   "cell_type": "code",
   "execution_count": 11,
   "id": "03a33e3a",
   "metadata": {},
   "outputs": [],
   "source": [
    "from gpao_obd.generate_finding_chart import generate_finding_charts"
   ]
  },
  {
   "cell_type": "code",
   "execution_count": 12,
   "id": "680f5f66",
   "metadata": {},
   "outputs": [
    {
     "data": {
      "image/png": "[encoded data removed]",
      "text/plain": [
       "<Figure size 800x400 with 2 Axes>"
      ]
     },
     "metadata": {},
     "output_type": "display_data"
    }
   ],
   "source": [
    "generate_finding_charts(obdfiles)"
   ]
  },
  {
   "cell_type": "code",
   "execution_count": null,
   "id": "294b0618",
   "metadata": {},
   "outputs": [],
   "source": []
  }
 ],
 "metadata": {
  "kernelspec": {
   "display_name": "gpao",
   "language": "python",
   "name": "python3"
  },
  "language_info": {
   "codemirror_mode": {
    "name": "ipython",
    "version": 3
   },
   "file_extension": ".py",
   "mimetype": "text/x-python",
   "name": "python",
   "nbconvert_exporter": "python",
   "pygments_lexer": "ipython3",
   "version": "3.11.14"
  }
 },
 "nbformat": 4,
 "nbformat_minor": 5
}
